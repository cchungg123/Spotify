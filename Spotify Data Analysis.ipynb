{
 "cells": [
  {
   "cell_type": "code",
   "execution_count": 6,
   "id": "8f45842c",
   "metadata": {},
   "outputs": [],
   "source": [
    "import numpy as np\n",
    "import pandas as pd\n",
    "import matplotlib.pyplot as plt\n"
   ]
  },
  {
   "cell_type": "markdown",
   "id": "cb5a9698",
   "metadata": {},
   "source": [
    "Importing Spotify Charts dataset by Dave Dhruvil\n",
    "\n",
    "Description: \"Complete dataset of all the \"Top 200\" and \"Viral 50\" charts published globally by Spotify. Spotify publishes a new chart every 2-3 days. This is its entire collection since January 1, 2017\"."
   ]
  },
  {
   "cell_type": "code",
   "execution_count": 7,
   "id": "82444672",
   "metadata": {},
   "outputs": [],
   "source": [
    "df = pd.read_csv('/Users/caseychung/Desktop/charts.csv')"
   ]
  },
  {
   "cell_type": "code",
   "execution_count": 3,
   "id": "6513de16",
   "metadata": {},
   "outputs": [
    {
     "data": {
      "text/html": [
       "<div>\n",
       "<style scoped>\n",
       "    .dataframe tbody tr th:only-of-type {\n",
       "        vertical-align: middle;\n",
       "    }\n",
       "\n",
       "    .dataframe tbody tr th {\n",
       "        vertical-align: top;\n",
       "    }\n",
       "\n",
       "    .dataframe thead th {\n",
       "        text-align: right;\n",
       "    }\n",
       "</style>\n",
       "<table border=\"1\" class=\"dataframe\">\n",
       "  <thead>\n",
       "    <tr style=\"text-align: right;\">\n",
       "      <th></th>\n",
       "      <th>title</th>\n",
       "      <th>rank</th>\n",
       "      <th>date</th>\n",
       "      <th>artist</th>\n",
       "      <th>url</th>\n",
       "      <th>region</th>\n",
       "      <th>chart</th>\n",
       "      <th>trend</th>\n",
       "      <th>streams</th>\n",
       "    </tr>\n",
       "  </thead>\n",
       "  <tbody>\n",
       "    <tr>\n",
       "      <th>0</th>\n",
       "      <td>Chantaje (feat. Maluma)</td>\n",
       "      <td>1</td>\n",
       "      <td>2017-01-01</td>\n",
       "      <td>Shakira</td>\n",
       "      <td>https://open.spotify.com/track/6mICuAdrwEjh6Y6...</td>\n",
       "      <td>Argentina</td>\n",
       "      <td>top200</td>\n",
       "      <td>SAME_POSITION</td>\n",
       "      <td>253019.0</td>\n",
       "    </tr>\n",
       "    <tr>\n",
       "      <th>1</th>\n",
       "      <td>Vente Pa' Ca (feat. Maluma)</td>\n",
       "      <td>2</td>\n",
       "      <td>2017-01-01</td>\n",
       "      <td>Ricky Martin</td>\n",
       "      <td>https://open.spotify.com/track/7DM4BPaS7uofFul...</td>\n",
       "      <td>Argentina</td>\n",
       "      <td>top200</td>\n",
       "      <td>MOVE_UP</td>\n",
       "      <td>223988.0</td>\n",
       "    </tr>\n",
       "    <tr>\n",
       "      <th>2</th>\n",
       "      <td>Reggaetón Lento (Bailemos)</td>\n",
       "      <td>3</td>\n",
       "      <td>2017-01-01</td>\n",
       "      <td>CNCO</td>\n",
       "      <td>https://open.spotify.com/track/3AEZUABDXNtecAO...</td>\n",
       "      <td>Argentina</td>\n",
       "      <td>top200</td>\n",
       "      <td>MOVE_DOWN</td>\n",
       "      <td>210943.0</td>\n",
       "    </tr>\n",
       "    <tr>\n",
       "      <th>3</th>\n",
       "      <td>Safari</td>\n",
       "      <td>4</td>\n",
       "      <td>2017-01-01</td>\n",
       "      <td>J Balvin, Pharrell Williams, BIA, Sky</td>\n",
       "      <td>https://open.spotify.com/track/6rQSrBHf7HlZjtc...</td>\n",
       "      <td>Argentina</td>\n",
       "      <td>top200</td>\n",
       "      <td>SAME_POSITION</td>\n",
       "      <td>173865.0</td>\n",
       "    </tr>\n",
       "    <tr>\n",
       "      <th>4</th>\n",
       "      <td>Shaky Shaky</td>\n",
       "      <td>5</td>\n",
       "      <td>2017-01-01</td>\n",
       "      <td>Daddy Yankee</td>\n",
       "      <td>https://open.spotify.com/track/58IL315gMSTD37D...</td>\n",
       "      <td>Argentina</td>\n",
       "      <td>top200</td>\n",
       "      <td>MOVE_UP</td>\n",
       "      <td>153956.0</td>\n",
       "    </tr>\n",
       "    <tr>\n",
       "      <th>5</th>\n",
       "      <td>Traicionera</td>\n",
       "      <td>6</td>\n",
       "      <td>2017-01-01</td>\n",
       "      <td>Sebastian Yatra</td>\n",
       "      <td>https://open.spotify.com/track/5J1c3M4EldCfNxX...</td>\n",
       "      <td>Argentina</td>\n",
       "      <td>top200</td>\n",
       "      <td>MOVE_DOWN</td>\n",
       "      <td>151140.0</td>\n",
       "    </tr>\n",
       "    <tr>\n",
       "      <th>6</th>\n",
       "      <td>Cuando Se Pone a Bailar</td>\n",
       "      <td>7</td>\n",
       "      <td>2017-01-01</td>\n",
       "      <td>Rombai</td>\n",
       "      <td>https://open.spotify.com/track/1MpKZi1zTXpERKw...</td>\n",
       "      <td>Argentina</td>\n",
       "      <td>top200</td>\n",
       "      <td>MOVE_DOWN</td>\n",
       "      <td>148369.0</td>\n",
       "    </tr>\n",
       "    <tr>\n",
       "      <th>7</th>\n",
       "      <td>Otra vez (feat. J Balvin)</td>\n",
       "      <td>8</td>\n",
       "      <td>2017-01-01</td>\n",
       "      <td>Zion &amp; Lennox</td>\n",
       "      <td>https://open.spotify.com/track/3QwBODjSEzelZyV...</td>\n",
       "      <td>Argentina</td>\n",
       "      <td>top200</td>\n",
       "      <td>MOVE_DOWN</td>\n",
       "      <td>143004.0</td>\n",
       "    </tr>\n",
       "    <tr>\n",
       "      <th>8</th>\n",
       "      <td>La Bicicleta</td>\n",
       "      <td>9</td>\n",
       "      <td>2017-01-01</td>\n",
       "      <td>Carlos Vives, Shakira</td>\n",
       "      <td>https://open.spotify.com/track/0sXvAOmXgjR2QUq...</td>\n",
       "      <td>Argentina</td>\n",
       "      <td>top200</td>\n",
       "      <td>MOVE_UP</td>\n",
       "      <td>126389.0</td>\n",
       "    </tr>\n",
       "    <tr>\n",
       "      <th>9</th>\n",
       "      <td>Dile Que Tu Me Quieres</td>\n",
       "      <td>10</td>\n",
       "      <td>2017-01-01</td>\n",
       "      <td>Ozuna</td>\n",
       "      <td>https://open.spotify.com/track/20ZAJdsKB5IGbGj...</td>\n",
       "      <td>Argentina</td>\n",
       "      <td>top200</td>\n",
       "      <td>MOVE_DOWN</td>\n",
       "      <td>112012.0</td>\n",
       "    </tr>\n",
       "  </tbody>\n",
       "</table>\n",
       "</div>"
      ],
      "text/plain": [
       "                         title  rank        date  \\\n",
       "0      Chantaje (feat. Maluma)     1  2017-01-01   \n",
       "1  Vente Pa' Ca (feat. Maluma)     2  2017-01-01   \n",
       "2   Reggaetón Lento (Bailemos)     3  2017-01-01   \n",
       "3                       Safari     4  2017-01-01   \n",
       "4                  Shaky Shaky     5  2017-01-01   \n",
       "5                  Traicionera     6  2017-01-01   \n",
       "6      Cuando Se Pone a Bailar     7  2017-01-01   \n",
       "7    Otra vez (feat. J Balvin)     8  2017-01-01   \n",
       "8                 La Bicicleta     9  2017-01-01   \n",
       "9       Dile Que Tu Me Quieres    10  2017-01-01   \n",
       "\n",
       "                                  artist  \\\n",
       "0                                Shakira   \n",
       "1                           Ricky Martin   \n",
       "2                                   CNCO   \n",
       "3  J Balvin, Pharrell Williams, BIA, Sky   \n",
       "4                           Daddy Yankee   \n",
       "5                        Sebastian Yatra   \n",
       "6                                 Rombai   \n",
       "7                          Zion & Lennox   \n",
       "8                  Carlos Vives, Shakira   \n",
       "9                                  Ozuna   \n",
       "\n",
       "                                                 url     region   chart  \\\n",
       "0  https://open.spotify.com/track/6mICuAdrwEjh6Y6...  Argentina  top200   \n",
       "1  https://open.spotify.com/track/7DM4BPaS7uofFul...  Argentina  top200   \n",
       "2  https://open.spotify.com/track/3AEZUABDXNtecAO...  Argentina  top200   \n",
       "3  https://open.spotify.com/track/6rQSrBHf7HlZjtc...  Argentina  top200   \n",
       "4  https://open.spotify.com/track/58IL315gMSTD37D...  Argentina  top200   \n",
       "5  https://open.spotify.com/track/5J1c3M4EldCfNxX...  Argentina  top200   \n",
       "6  https://open.spotify.com/track/1MpKZi1zTXpERKw...  Argentina  top200   \n",
       "7  https://open.spotify.com/track/3QwBODjSEzelZyV...  Argentina  top200   \n",
       "8  https://open.spotify.com/track/0sXvAOmXgjR2QUq...  Argentina  top200   \n",
       "9  https://open.spotify.com/track/20ZAJdsKB5IGbGj...  Argentina  top200   \n",
       "\n",
       "           trend   streams  \n",
       "0  SAME_POSITION  253019.0  \n",
       "1        MOVE_UP  223988.0  \n",
       "2      MOVE_DOWN  210943.0  \n",
       "3  SAME_POSITION  173865.0  \n",
       "4        MOVE_UP  153956.0  \n",
       "5      MOVE_DOWN  151140.0  \n",
       "6      MOVE_DOWN  148369.0  \n",
       "7      MOVE_DOWN  143004.0  \n",
       "8        MOVE_UP  126389.0  \n",
       "9      MOVE_DOWN  112012.0  "
      ]
     },
     "execution_count": 3,
     "metadata": {},
     "output_type": "execute_result"
    }
   ],
   "source": [
    "df.head(10)"
   ]
  },
  {
   "cell_type": "code",
   "execution_count": 4,
   "id": "f99fb81e",
   "metadata": {},
   "outputs": [
    {
     "data": {
      "text/html": [
       "<div>\n",
       "<style scoped>\n",
       "    .dataframe tbody tr th:only-of-type {\n",
       "        vertical-align: middle;\n",
       "    }\n",
       "\n",
       "    .dataframe tbody tr th {\n",
       "        vertical-align: top;\n",
       "    }\n",
       "\n",
       "    .dataframe thead th {\n",
       "        text-align: right;\n",
       "    }\n",
       "</style>\n",
       "<table border=\"1\" class=\"dataframe\">\n",
       "  <thead>\n",
       "    <tr style=\"text-align: right;\">\n",
       "      <th></th>\n",
       "      <th>rank</th>\n",
       "      <th>streams</th>\n",
       "    </tr>\n",
       "  </thead>\n",
       "  <tbody>\n",
       "    <tr>\n",
       "      <th>count</th>\n",
       "      <td>2.617351e+07</td>\n",
       "      <td>2.032190e+07</td>\n",
       "    </tr>\n",
       "    <tr>\n",
       "      <th>mean</th>\n",
       "      <td>8.092314e+01</td>\n",
       "      <td>5.526131e+04</td>\n",
       "    </tr>\n",
       "    <tr>\n",
       "      <th>std</th>\n",
       "      <td>5.918601e+01</td>\n",
       "      <td>2.095872e+05</td>\n",
       "    </tr>\n",
       "    <tr>\n",
       "      <th>min</th>\n",
       "      <td>1.000000e+00</td>\n",
       "      <td>1.001000e+03</td>\n",
       "    </tr>\n",
       "    <tr>\n",
       "      <th>25%</th>\n",
       "      <td>2.900000e+01</td>\n",
       "      <td>3.546000e+03</td>\n",
       "    </tr>\n",
       "    <tr>\n",
       "      <th>50%</th>\n",
       "      <td>6.700000e+01</td>\n",
       "      <td>9.565000e+03</td>\n",
       "    </tr>\n",
       "    <tr>\n",
       "      <th>75%</th>\n",
       "      <td>1.310000e+02</td>\n",
       "      <td>3.540900e+04</td>\n",
       "    </tr>\n",
       "    <tr>\n",
       "      <th>max</th>\n",
       "      <td>2.000000e+02</td>\n",
       "      <td>1.974970e+07</td>\n",
       "    </tr>\n",
       "  </tbody>\n",
       "</table>\n",
       "</div>"
      ],
      "text/plain": [
       "               rank       streams\n",
       "count  2.617351e+07  2.032190e+07\n",
       "mean   8.092314e+01  5.526131e+04\n",
       "std    5.918601e+01  2.095872e+05\n",
       "min    1.000000e+00  1.001000e+03\n",
       "25%    2.900000e+01  3.546000e+03\n",
       "50%    6.700000e+01  9.565000e+03\n",
       "75%    1.310000e+02  3.540900e+04\n",
       "max    2.000000e+02  1.974970e+07"
      ]
     },
     "execution_count": 4,
     "metadata": {},
     "output_type": "execute_result"
    }
   ],
   "source": [
    "## Describing spotify dataset\n",
    "df.describe()"
   ]
  },
  {
   "cell_type": "code",
   "execution_count": 5,
   "id": "ca2d5add",
   "metadata": {},
   "outputs": [
    {
     "data": {
      "text/plain": [
       "<bound method DataFrame.info of                                   title  rank        date  \\\n",
       "0               Chantaje (feat. Maluma)     1  2017-01-01   \n",
       "1           Vente Pa' Ca (feat. Maluma)     2  2017-01-01   \n",
       "2            Reggaetón Lento (Bailemos)     3  2017-01-01   \n",
       "3                                Safari     4  2017-01-01   \n",
       "4                           Shaky Shaky     5  2017-01-01   \n",
       "...                                 ...   ...         ...   \n",
       "26173509                            BYE    46  2021-07-31   \n",
       "26173510                        Pillars    47  2021-07-31   \n",
       "26173511                   Gái Độc Thân    48  2021-07-31   \n",
       "26173512  Renegade (feat. Taylor Swift)    49  2021-07-31   \n",
       "26173513                Letter to Jarad    50  2021-07-31   \n",
       "\n",
       "                                         artist  \\\n",
       "0                                       Shakira   \n",
       "1                                  Ricky Martin   \n",
       "2                                          CNCO   \n",
       "3         J Balvin, Pharrell Williams, BIA, Sky   \n",
       "4                                  Daddy Yankee   \n",
       "...                                         ...   \n",
       "26173509                                  Jaden   \n",
       "26173510                                 My Anh   \n",
       "26173511                                  Tlinh   \n",
       "26173512                        Big Red Machine   \n",
       "26173513              LRN Slime, Shiloh Dynasty   \n",
       "\n",
       "                                                        url     region  \\\n",
       "0         https://open.spotify.com/track/6mICuAdrwEjh6Y6...  Argentina   \n",
       "1         https://open.spotify.com/track/7DM4BPaS7uofFul...  Argentina   \n",
       "2         https://open.spotify.com/track/3AEZUABDXNtecAO...  Argentina   \n",
       "3         https://open.spotify.com/track/6rQSrBHf7HlZjtc...  Argentina   \n",
       "4         https://open.spotify.com/track/58IL315gMSTD37D...  Argentina   \n",
       "...                                                     ...        ...   \n",
       "26173509  https://open.spotify.com/track/3OUyyDN7EZrL7i0...    Vietnam   \n",
       "26173510  https://open.spotify.com/track/6eky30oFiQbHUAT...    Vietnam   \n",
       "26173511  https://open.spotify.com/track/2klsSb2iTfgDh95...    Vietnam   \n",
       "26173512  https://open.spotify.com/track/1aU1wpYBSpP0M6I...    Vietnam   \n",
       "26173513  https://open.spotify.com/track/508QhA2SncMbh5C...    Vietnam   \n",
       "\n",
       "            chart          trend   streams  \n",
       "0          top200  SAME_POSITION  253019.0  \n",
       "1          top200        MOVE_UP  223988.0  \n",
       "2          top200      MOVE_DOWN  210943.0  \n",
       "3          top200  SAME_POSITION  173865.0  \n",
       "4          top200        MOVE_UP  153956.0  \n",
       "...           ...            ...       ...  \n",
       "26173509  viral50        MOVE_UP       NaN  \n",
       "26173510  viral50      NEW_ENTRY       NaN  \n",
       "26173511  viral50      MOVE_DOWN       NaN  \n",
       "26173512  viral50      MOVE_DOWN       NaN  \n",
       "26173513  viral50      MOVE_DOWN       NaN  \n",
       "\n",
       "[26173514 rows x 9 columns]>"
      ]
     },
     "execution_count": 5,
     "metadata": {},
     "output_type": "execute_result"
    }
   ],
   "source": [
    "df.info"
   ]
  },
  {
   "cell_type": "markdown",
   "id": "803b2e9d",
   "metadata": {},
   "source": [
    "Artist popularity"
   ]
  },
  {
   "cell_type": "code",
   "execution_count": 6,
   "id": "c6a441f1",
   "metadata": {},
   "outputs": [],
   "source": [
    "#finding most popular artist using .value_counts\n",
    "popular = df['artist'].value_counts()"
   ]
  },
  {
   "cell_type": "code",
   "execution_count": 7,
   "id": "631f7bf6",
   "metadata": {},
   "outputs": [
    {
     "data": {
      "text/plain": [
       "Ed Sheeran         387917\n",
       "Billie Eilish      251825\n",
       "Post Malone        211272\n",
       "Bad Bunny          203403\n",
       "Ariana Grande      189914\n",
       "Dua Lipa           187085\n",
       "Drake              177380\n",
       "Imagine Dragons    157900\n",
       "XXXTENTACION       155458\n",
       "BTS                154338\n",
       "Name: artist, dtype: int64"
      ]
     },
     "execution_count": 7,
     "metadata": {},
     "output_type": "execute_result"
    }
   ],
   "source": [
    "#displaying top 10 most popular artists\n",
    "popular.head(10)"
   ]
  },
  {
   "cell_type": "code",
   "execution_count": 8,
   "id": "aa36c20d",
   "metadata": {},
   "outputs": [
    {
     "data": {
      "text/plain": [
       "Tymek, Kizo, Szpaku, Michał Graczyk, 2K                                    1\n",
       "Aspova, Motive                                                             1\n",
       "Creditcard Reasons                                                         1\n",
       "Lips, Rose McIver                                                          1\n",
       "Aspova, Ceg                                                                1\n",
       "Ezhel, Patron, Anıl Piyancı, Sansar Salvo, Allame, Pit10, Beta, Kamufle    1\n",
       "Lips, George Mason, Rose McIver, Kimbra                                    1\n",
       "Joakim Kleven, KOH                                                         1\n",
       "Lazyloxy, Maiyarap, OG-ANIC, UrboyTJ                                       1\n",
       "Luna 99                                                                    1\n",
       "Name: artist, dtype: int64"
      ]
     },
     "execution_count": 8,
     "metadata": {},
     "output_type": "execute_result"
    }
   ],
   "source": [
    "##displaying top 10 least popular artists\n",
    "popular.tail(10)"
   ]
  },
  {
   "cell_type": "markdown",
   "id": "92777389",
   "metadata": {},
   "source": [
    "# As a big fan of an artist named Juice WRLD, who sadly passed away in 2019, I wanted to examine how death affected his ability to get on the top 200 charts. Do dead artists do better?"
   ]
  },
  {
   "cell_type": "code",
   "execution_count": 9,
   "id": "b930251e",
   "metadata": {},
   "outputs": [
    {
     "data": {
      "text/html": [
       "<div>\n",
       "<style scoped>\n",
       "    .dataframe tbody tr th:only-of-type {\n",
       "        vertical-align: middle;\n",
       "    }\n",
       "\n",
       "    .dataframe tbody tr th {\n",
       "        vertical-align: top;\n",
       "    }\n",
       "\n",
       "    .dataframe thead th {\n",
       "        text-align: right;\n",
       "    }\n",
       "</style>\n",
       "<table border=\"1\" class=\"dataframe\">\n",
       "  <thead>\n",
       "    <tr style=\"text-align: right;\">\n",
       "      <th></th>\n",
       "      <th>title</th>\n",
       "      <th>rank</th>\n",
       "      <th>date</th>\n",
       "      <th>artist</th>\n",
       "      <th>url</th>\n",
       "      <th>region</th>\n",
       "      <th>chart</th>\n",
       "      <th>trend</th>\n",
       "      <th>streams</th>\n",
       "    </tr>\n",
       "  </thead>\n",
       "  <tbody>\n",
       "    <tr>\n",
       "      <th>66133</th>\n",
       "      <td>Righteous</td>\n",
       "      <td>15</td>\n",
       "      <td>2020-05-01</td>\n",
       "      <td>Juice WRLD</td>\n",
       "      <td>https://open.spotify.com/track/0OyQns5ayNK2OVa...</td>\n",
       "      <td>Australia</td>\n",
       "      <td>top200</td>\n",
       "      <td>MOVE_DOWN</td>\n",
       "      <td>132498.0</td>\n",
       "    </tr>\n",
       "    <tr>\n",
       "      <th>66195</th>\n",
       "      <td>Lucid Dreams</td>\n",
       "      <td>76</td>\n",
       "      <td>2020-05-01</td>\n",
       "      <td>Juice WRLD</td>\n",
       "      <td>https://open.spotify.com/track/285pBltuF7vW8Te...</td>\n",
       "      <td>Australia</td>\n",
       "      <td>top200</td>\n",
       "      <td>MOVE_DOWN</td>\n",
       "      <td>56183.0</td>\n",
       "    </tr>\n",
       "    <tr>\n",
       "      <th>66234</th>\n",
       "      <td>Robbery</td>\n",
       "      <td>115</td>\n",
       "      <td>2020-05-01</td>\n",
       "      <td>Juice WRLD</td>\n",
       "      <td>https://open.spotify.com/track/6Hj9jySrnFppAI0...</td>\n",
       "      <td>Australia</td>\n",
       "      <td>top200</td>\n",
       "      <td>MOVE_DOWN</td>\n",
       "      <td>40388.0</td>\n",
       "    </tr>\n",
       "    <tr>\n",
       "      <th>66264</th>\n",
       "      <td>Bandit (with YoungBoy Never Broke Again)</td>\n",
       "      <td>145</td>\n",
       "      <td>2020-05-01</td>\n",
       "      <td>Juice WRLD</td>\n",
       "      <td>https://open.spotify.com/track/6Gg1gjgKi2AK4e0...</td>\n",
       "      <td>Australia</td>\n",
       "      <td>top200</td>\n",
       "      <td>MOVE_DOWN</td>\n",
       "      <td>34774.0</td>\n",
       "    </tr>\n",
       "    <tr>\n",
       "      <th>66351</th>\n",
       "      <td>Righteous</td>\n",
       "      <td>32</td>\n",
       "      <td>2020-05-01</td>\n",
       "      <td>Juice WRLD</td>\n",
       "      <td>https://open.spotify.com/track/0OyQns5ayNK2OVa...</td>\n",
       "      <td>Austria</td>\n",
       "      <td>top200</td>\n",
       "      <td>SAME_POSITION</td>\n",
       "      <td>12266.0</td>\n",
       "    </tr>\n",
       "    <tr>\n",
       "      <th>...</th>\n",
       "      <td>...</td>\n",
       "      <td>...</td>\n",
       "      <td>...</td>\n",
       "      <td>...</td>\n",
       "      <td>...</td>\n",
       "      <td>...</td>\n",
       "      <td>...</td>\n",
       "      <td>...</td>\n",
       "      <td>...</td>\n",
       "    </tr>\n",
       "    <tr>\n",
       "      <th>24881926</th>\n",
       "      <td>All Girls Are The Same</td>\n",
       "      <td>103</td>\n",
       "      <td>2021-10-31</td>\n",
       "      <td>Juice WRLD</td>\n",
       "      <td>https://open.spotify.com/track/4VXIryQMWpIdGgY...</td>\n",
       "      <td>United States</td>\n",
       "      <td>top200</td>\n",
       "      <td>MOVE_DOWN</td>\n",
       "      <td>260206.0</td>\n",
       "    </tr>\n",
       "    <tr>\n",
       "      <th>24881938</th>\n",
       "      <td>Lucid Dreams</td>\n",
       "      <td>115</td>\n",
       "      <td>2021-10-31</td>\n",
       "      <td>Juice WRLD</td>\n",
       "      <td>https://open.spotify.com/track/285pBltuF7vW8Te...</td>\n",
       "      <td>United States</td>\n",
       "      <td>top200</td>\n",
       "      <td>MOVE_DOWN</td>\n",
       "      <td>249554.0</td>\n",
       "    </tr>\n",
       "    <tr>\n",
       "      <th>24881958</th>\n",
       "      <td>Come &amp; Go (with Marshmello)</td>\n",
       "      <td>135</td>\n",
       "      <td>2021-10-31</td>\n",
       "      <td>Juice WRLD</td>\n",
       "      <td>https://open.spotify.com/track/2Y0wPrPQBrGhoLn...</td>\n",
       "      <td>United States</td>\n",
       "      <td>top200</td>\n",
       "      <td>MOVE_DOWN</td>\n",
       "      <td>237085.0</td>\n",
       "    </tr>\n",
       "    <tr>\n",
       "      <th>24881979</th>\n",
       "      <td>Wishing Well</td>\n",
       "      <td>156</td>\n",
       "      <td>2021-10-31</td>\n",
       "      <td>Juice WRLD</td>\n",
       "      <td>https://open.spotify.com/track/2U5WueTLIK5WJLD...</td>\n",
       "      <td>United States</td>\n",
       "      <td>top200</td>\n",
       "      <td>MOVE_DOWN</td>\n",
       "      <td>222035.0</td>\n",
       "    </tr>\n",
       "    <tr>\n",
       "      <th>24881984</th>\n",
       "      <td>Robbery</td>\n",
       "      <td>161</td>\n",
       "      <td>2021-10-31</td>\n",
       "      <td>Juice WRLD</td>\n",
       "      <td>https://open.spotify.com/track/6Hj9jySrnFppAI0...</td>\n",
       "      <td>United States</td>\n",
       "      <td>top200</td>\n",
       "      <td>MOVE_DOWN</td>\n",
       "      <td>220106.0</td>\n",
       "    </tr>\n",
       "  </tbody>\n",
       "</table>\n",
       "<p>111656 rows × 9 columns</p>\n",
       "</div>"
      ],
      "text/plain": [
       "                                             title  rank        date  \\\n",
       "66133                                    Righteous    15  2020-05-01   \n",
       "66195                                 Lucid Dreams    76  2020-05-01   \n",
       "66234                                      Robbery   115  2020-05-01   \n",
       "66264     Bandit (with YoungBoy Never Broke Again)   145  2020-05-01   \n",
       "66351                                    Righteous    32  2020-05-01   \n",
       "...                                            ...   ...         ...   \n",
       "24881926                    All Girls Are The Same   103  2021-10-31   \n",
       "24881938                              Lucid Dreams   115  2021-10-31   \n",
       "24881958               Come & Go (with Marshmello)   135  2021-10-31   \n",
       "24881979                              Wishing Well   156  2021-10-31   \n",
       "24881984                                   Robbery   161  2021-10-31   \n",
       "\n",
       "              artist                                                url  \\\n",
       "66133     Juice WRLD  https://open.spotify.com/track/0OyQns5ayNK2OVa...   \n",
       "66195     Juice WRLD  https://open.spotify.com/track/285pBltuF7vW8Te...   \n",
       "66234     Juice WRLD  https://open.spotify.com/track/6Hj9jySrnFppAI0...   \n",
       "66264     Juice WRLD  https://open.spotify.com/track/6Gg1gjgKi2AK4e0...   \n",
       "66351     Juice WRLD  https://open.spotify.com/track/0OyQns5ayNK2OVa...   \n",
       "...              ...                                                ...   \n",
       "24881926  Juice WRLD  https://open.spotify.com/track/4VXIryQMWpIdGgY...   \n",
       "24881938  Juice WRLD  https://open.spotify.com/track/285pBltuF7vW8Te...   \n",
       "24881958  Juice WRLD  https://open.spotify.com/track/2Y0wPrPQBrGhoLn...   \n",
       "24881979  Juice WRLD  https://open.spotify.com/track/2U5WueTLIK5WJLD...   \n",
       "24881984  Juice WRLD  https://open.spotify.com/track/6Hj9jySrnFppAI0...   \n",
       "\n",
       "                 region   chart          trend   streams  \n",
       "66133         Australia  top200      MOVE_DOWN  132498.0  \n",
       "66195         Australia  top200      MOVE_DOWN   56183.0  \n",
       "66234         Australia  top200      MOVE_DOWN   40388.0  \n",
       "66264         Australia  top200      MOVE_DOWN   34774.0  \n",
       "66351           Austria  top200  SAME_POSITION   12266.0  \n",
       "...                 ...     ...            ...       ...  \n",
       "24881926  United States  top200      MOVE_DOWN  260206.0  \n",
       "24881938  United States  top200      MOVE_DOWN  249554.0  \n",
       "24881958  United States  top200      MOVE_DOWN  237085.0  \n",
       "24881979  United States  top200      MOVE_DOWN  222035.0  \n",
       "24881984  United States  top200      MOVE_DOWN  220106.0  \n",
       "\n",
       "[111656 rows x 9 columns]"
      ]
     },
     "execution_count": 9,
     "metadata": {},
     "output_type": "execute_result"
    }
   ],
   "source": [
    "#finding out how many times juice has shown up on the viral 200\n",
    "df.loc[(df['artist']== 'Juice WRLD') & (df['chart'] == 'top200')]"
   ]
  },
  {
   "cell_type": "code",
   "execution_count": 10,
   "id": "47b19aa6",
   "metadata": {},
   "outputs": [
    {
     "name": "stdout",
     "output_type": "stream",
     "text": [
      "Juice Wrld Top 200 Appearances -> 111656\n"
     ]
    }
   ],
   "source": [
    "# Count of top 200 appearances\n",
    "# where artist is equal to Juice WRLD\n",
    "# and chart is equal to top 200\n",
    "\n",
    "print('Juice Wrld Top 200 Appearances ->',\n",
    "    df[(df['artist'] == 'Juice WRLD') &\n",
    "    (df['chart'] == 'top200')]['artist'].count())\n"
   ]
  },
  {
   "cell_type": "code",
   "execution_count": 11,
   "id": "db2c396f",
   "metadata": {},
   "outputs": [
    {
     "name": "stdout",
     "output_type": "stream",
     "text": [
      "Juice Wrld rank 1 appearances -> 45\n"
     ]
    }
   ],
   "source": [
    "# Counting how many times juice has appeared in rank 1\n",
    "\n",
    "print('Juice Wrld rank 1 appearances ->',\n",
    "    df[(df['artist'] == 'Juice WRLD') &\n",
    "    (df['chart'] == 'top200') &\n",
    "    (df['rank'] == 1)]['artist'].count())\n"
   ]
  },
  {
   "cell_type": "code",
   "execution_count": 12,
   "id": "209084bc",
   "metadata": {},
   "outputs": [
    {
     "data": {
      "text/plain": [
       "108664.84457619832"
      ]
     },
     "execution_count": 12,
     "metadata": {},
     "output_type": "execute_result"
    }
   ],
   "source": [
    "#Juice WRLD's average streams\n",
    "\n",
    "df[(df['artist'] == 'Juice WRLD')]['streams'].mean()"
   ]
  },
  {
   "cell_type": "code",
   "execution_count": 13,
   "id": "0d3471eb",
   "metadata": {},
   "outputs": [
    {
     "data": {
      "text/plain": [
       "title\n",
       "Lucid Dreams                                3.184617e+09\n",
       "Robbery                                     1.339248e+09\n",
       "All Girls Are The Same                      1.148945e+09\n",
       "Come & Go (with Marshmello)                 9.319059e+08\n",
       "Wishing Well                                8.535963e+08\n",
       "Bandit (with YoungBoy Never Broke Again)    8.265332e+08\n",
       "Armed And Dangerous                         4.247045e+08\n",
       "Righteous                                   4.120900e+08\n",
       "Lean Wit Me                                 3.262128e+08\n",
       "Smile (with The Weeknd)                     3.152129e+08\n",
       "Name: streams, dtype: float64"
      ]
     },
     "execution_count": 13,
     "metadata": {},
     "output_type": "execute_result"
    }
   ],
   "source": [
    "# Top 10 juice wrld songs sorted by sum of streams\n",
    "# sorted by artist and chart \n",
    "# grouped by title and only summing the streams\n",
    "\n",
    "df[(df['artist'] == 'Juice WRLD') &\n",
    "    (df['chart'] == 'top200')].groupby(['title'])['streams'].sum().nlargest(10)\n"
   ]
  },
  {
   "cell_type": "code",
   "execution_count": 14,
   "id": "0d42ba9a",
   "metadata": {},
   "outputs": [
    {
     "data": {
      "text/plain": [
       "<AxesSubplot:title={'center':'Top 10 Regions For Juice WRLD listeners'}, ylabel='streams'>"
      ]
     },
     "execution_count": 14,
     "metadata": {},
     "output_type": "execute_result"
    },
    {
     "data": {
      "image/png": "[encoded data removed]",
      "text/plain": [
       "<Figure size 720x720 with 1 Axes>"
      ]
     },
     "metadata": {},
     "output_type": "display_data"
    }
   ],
   "source": [
    "# Finding top 10 regions that are most popular for Juice WRLD listeners\n",
    "\n",
    "region = df[(df['artist'] == 'Juice WRLD') &\n",
    "            (df['chart'] == 'top200')].groupby(['region'])['streams'].sum().nlargest(9)\n",
    "\n",
    "# Making a pie chart out of data gathered above\n",
    "region.plot(figsize=(10,10), kind='pie', autopct='%1.0f%%',\n",
    "            title='Top 10 Regions For Juice WRLD listeners')\n"
   ]
  },
  {
   "cell_type": "code",
   "execution_count": 15,
   "id": "4a9e1ce1",
   "metadata": {},
   "outputs": [
    {
     "data": {
      "text/plain": [
       "<AxesSubplot:title={'center':'Juice WRLD stream numbers over time'}, xlabel='Date', ylabel='Total streams by millions'>"
      ]
     },
     "execution_count": 15,
     "metadata": {},
     "output_type": "execute_result"
    },
    {
     "data": {
      "image/png": "[encoded data removed]",
      "text/plain": [
       "<Figure size 864x576 with 1 Axes>"
      ]
     },
     "metadata": {
      "needs_background": "light"
     },
     "output_type": "display_data"
    }
   ],
   "source": [
    "#Finding juices stream numbers over time using groupby and sum\n",
    "\n",
    "Jdate = df[(df['artist'] == 'Juice WRLD') &\n",
    "    (df['chart'] == 'top200')].groupby(['date'])['streams'].sum()\n",
    "\n",
    "#Using a line plot to show stream numbers over time\n",
    "Jdate.plot(figsize=(12,8),\n",
    "        title='Juice WRLD stream numbers over time', \n",
    "        ylabel='Total streams by millions', xlabel='Date')\n"
   ]
  },
  {
   "cell_type": "code",
   "execution_count": 16,
   "id": "425a2455",
   "metadata": {},
   "outputs": [
    {
     "data": {
      "text/plain": [
       "date\n",
       "2020-07-10    143218665.0\n",
       "2020-07-11     98131141.0\n",
       "2020-07-12     78075148.0\n",
       "2020-07-13     77053673.0\n",
       "2020-07-14     72044812.0\n",
       "2020-07-15     65439012.0\n",
       "2020-07-16     61658533.0\n",
       "2021-12-10     59078668.0\n",
       "2019-12-09     58684490.0\n",
       "2020-07-17     57658383.0\n",
       "2019-03-08     52705132.0\n",
       "2020-07-18     50716027.0\n",
       "2020-07-20     47443677.0\n",
       "2020-07-21     45923456.0\n",
       "2020-07-19     45816025.0\n",
       "2020-07-22     44424828.0\n",
       "2020-07-23     42196201.0\n",
       "2019-12-08     40467813.0\n",
       "2019-12-10     39598545.0\n",
       "2020-07-24     36096655.0\n",
       "Name: streams, dtype: float64"
      ]
     },
     "execution_count": 16,
     "metadata": {},
     "output_type": "execute_result"
    }
   ],
   "source": [
    "#The top 20 days juice had his highest number of streams\n",
    "\n",
    "df[(df['artist'] == 'Juice WRLD') &\n",
    "    (df['chart'] == 'top200')].groupby(['date'])['streams'].sum().nlargest(20)\n",
    "\n"
   ]
  },
  {
   "cell_type": "markdown",
   "id": "f0c0aff1",
   "metadata": {},
   "source": [
    "# XXXTENTACION analysis"
   ]
  },
  {
   "cell_type": "code",
   "execution_count": 17,
   "id": "c2dff35b",
   "metadata": {},
   "outputs": [
    {
     "data": {
      "text/html": [
       "<div>\n",
       "<style scoped>\n",
       "    .dataframe tbody tr th:only-of-type {\n",
       "        vertical-align: middle;\n",
       "    }\n",
       "\n",
       "    .dataframe tbody tr th {\n",
       "        vertical-align: top;\n",
       "    }\n",
       "\n",
       "    .dataframe thead th {\n",
       "        text-align: right;\n",
       "    }\n",
       "</style>\n",
       "<table border=\"1\" class=\"dataframe\">\n",
       "  <thead>\n",
       "    <tr style=\"text-align: right;\">\n",
       "      <th></th>\n",
       "      <th>title</th>\n",
       "      <th>rank</th>\n",
       "      <th>date</th>\n",
       "      <th>artist</th>\n",
       "      <th>url</th>\n",
       "      <th>region</th>\n",
       "      <th>chart</th>\n",
       "      <th>trend</th>\n",
       "      <th>streams</th>\n",
       "    </tr>\n",
       "  </thead>\n",
       "  <tbody>\n",
       "    <tr>\n",
       "      <th>11536</th>\n",
       "      <td>Jocelyn Flores</td>\n",
       "      <td>69</td>\n",
       "      <td>2018-03-01</td>\n",
       "      <td>XXXTENTACION</td>\n",
       "      <td>https://open.spotify.com/track/7m9OqQk4RVRkw9J...</td>\n",
       "      <td>Australia</td>\n",
       "      <td>top200</td>\n",
       "      <td>MOVE_UP</td>\n",
       "      <td>47696.0</td>\n",
       "    </tr>\n",
       "    <tr>\n",
       "      <th>11619</th>\n",
       "      <td>Everybody Dies In Their Nightmares</td>\n",
       "      <td>152</td>\n",
       "      <td>2018-03-01</td>\n",
       "      <td>XXXTENTACION</td>\n",
       "      <td>https://open.spotify.com/track/3GVkPk8mqxz0ita...</td>\n",
       "      <td>Australia</td>\n",
       "      <td>top200</td>\n",
       "      <td>MOVE_UP</td>\n",
       "      <td>27841.0</td>\n",
       "    </tr>\n",
       "    <tr>\n",
       "      <th>11645</th>\n",
       "      <td>Fuck Love (feat. Trippie Redd)</td>\n",
       "      <td>178</td>\n",
       "      <td>2018-03-01</td>\n",
       "      <td>XXXTENTACION</td>\n",
       "      <td>https://open.spotify.com/track/7AQim7LbvFVZJE3...</td>\n",
       "      <td>Australia</td>\n",
       "      <td>top200</td>\n",
       "      <td>SAME_POSITION</td>\n",
       "      <td>25987.0</td>\n",
       "    </tr>\n",
       "    <tr>\n",
       "      <th>12519</th>\n",
       "      <td>Jocelyn Flores</td>\n",
       "      <td>102</td>\n",
       "      <td>2018-03-01</td>\n",
       "      <td>XXXTENTACION</td>\n",
       "      <td>https://open.spotify.com/track/7m9OqQk4RVRkw9J...</td>\n",
       "      <td>Canada</td>\n",
       "      <td>top200</td>\n",
       "      <td>SAME_POSITION</td>\n",
       "      <td>36765.0</td>\n",
       "    </tr>\n",
       "    <tr>\n",
       "      <th>12552</th>\n",
       "      <td>Fuck Love (feat. Trippie Redd)</td>\n",
       "      <td>135</td>\n",
       "      <td>2018-03-01</td>\n",
       "      <td>XXXTENTACION</td>\n",
       "      <td>https://open.spotify.com/track/7AQim7LbvFVZJE3...</td>\n",
       "      <td>Canada</td>\n",
       "      <td>top200</td>\n",
       "      <td>MOVE_UP</td>\n",
       "      <td>29423.0</td>\n",
       "    </tr>\n",
       "    <tr>\n",
       "      <th>...</th>\n",
       "      <td>...</td>\n",
       "      <td>...</td>\n",
       "      <td>...</td>\n",
       "      <td>...</td>\n",
       "      <td>...</td>\n",
       "      <td>...</td>\n",
       "      <td>...</td>\n",
       "      <td>...</td>\n",
       "      <td>...</td>\n",
       "    </tr>\n",
       "    <tr>\n",
       "      <th>25274848</th>\n",
       "      <td>Jocelyn Flores</td>\n",
       "      <td>176</td>\n",
       "      <td>2018-01-31</td>\n",
       "      <td>XXXTENTACION</td>\n",
       "      <td>https://open.spotify.com/track/7m9OqQk4RVRkw9J...</td>\n",
       "      <td>Switzerland</td>\n",
       "      <td>top200</td>\n",
       "      <td>NEW_ENTRY</td>\n",
       "      <td>3715.0</td>\n",
       "    </tr>\n",
       "    <tr>\n",
       "      <th>25275613</th>\n",
       "      <td>Jocelyn Flores</td>\n",
       "      <td>141</td>\n",
       "      <td>2018-01-31</td>\n",
       "      <td>XXXTENTACION</td>\n",
       "      <td>https://open.spotify.com/track/7m9OqQk4RVRkw9J...</td>\n",
       "      <td>United Kingdom</td>\n",
       "      <td>top200</td>\n",
       "      <td>MOVE_DOWN</td>\n",
       "      <td>52731.0</td>\n",
       "    </tr>\n",
       "    <tr>\n",
       "      <th>25275730</th>\n",
       "      <td>Jocelyn Flores</td>\n",
       "      <td>58</td>\n",
       "      <td>2018-01-31</td>\n",
       "      <td>XXXTENTACION</td>\n",
       "      <td>https://open.spotify.com/track/7m9OqQk4RVRkw9J...</td>\n",
       "      <td>United States</td>\n",
       "      <td>top200</td>\n",
       "      <td>MOVE_UP</td>\n",
       "      <td>418883.0</td>\n",
       "    </tr>\n",
       "    <tr>\n",
       "      <th>25275739</th>\n",
       "      <td>Fuck Love (feat. Trippie Redd)</td>\n",
       "      <td>67</td>\n",
       "      <td>2018-01-31</td>\n",
       "      <td>XXXTENTACION</td>\n",
       "      <td>https://open.spotify.com/track/7AQim7LbvFVZJE3...</td>\n",
       "      <td>United States</td>\n",
       "      <td>top200</td>\n",
       "      <td>MOVE_UP</td>\n",
       "      <td>389596.0</td>\n",
       "    </tr>\n",
       "    <tr>\n",
       "      <th>25275804</th>\n",
       "      <td>Everybody Dies In Their Nightmares</td>\n",
       "      <td>132</td>\n",
       "      <td>2018-01-31</td>\n",
       "      <td>XXXTENTACION</td>\n",
       "      <td>https://open.spotify.com/track/3GVkPk8mqxz0ita...</td>\n",
       "      <td>United States</td>\n",
       "      <td>top200</td>\n",
       "      <td>MOVE_UP</td>\n",
       "      <td>257311.0</td>\n",
       "    </tr>\n",
       "  </tbody>\n",
       "</table>\n",
       "<p>142029 rows × 9 columns</p>\n",
       "</div>"
      ],
      "text/plain": [
       "                                       title  rank        date        artist  \\\n",
       "11536                         Jocelyn Flores    69  2018-03-01  XXXTENTACION   \n",
       "11619     Everybody Dies In Their Nightmares   152  2018-03-01  XXXTENTACION   \n",
       "11645         Fuck Love (feat. Trippie Redd)   178  2018-03-01  XXXTENTACION   \n",
       "12519                         Jocelyn Flores   102  2018-03-01  XXXTENTACION   \n",
       "12552         Fuck Love (feat. Trippie Redd)   135  2018-03-01  XXXTENTACION   \n",
       "...                                      ...   ...         ...           ...   \n",
       "25274848                      Jocelyn Flores   176  2018-01-31  XXXTENTACION   \n",
       "25275613                      Jocelyn Flores   141  2018-01-31  XXXTENTACION   \n",
       "25275730                      Jocelyn Flores    58  2018-01-31  XXXTENTACION   \n",
       "25275739      Fuck Love (feat. Trippie Redd)    67  2018-01-31  XXXTENTACION   \n",
       "25275804  Everybody Dies In Their Nightmares   132  2018-01-31  XXXTENTACION   \n",
       "\n",
       "                                                        url          region  \\\n",
       "11536     https://open.spotify.com/track/7m9OqQk4RVRkw9J...       Australia   \n",
       "11619     https://open.spotify.com/track/3GVkPk8mqxz0ita...       Australia   \n",
       "11645     https://open.spotify.com/track/7AQim7LbvFVZJE3...       Australia   \n",
       "12519     https://open.spotify.com/track/7m9OqQk4RVRkw9J...          Canada   \n",
       "12552     https://open.spotify.com/track/7AQim7LbvFVZJE3...          Canada   \n",
       "...                                                     ...             ...   \n",
       "25274848  https://open.spotify.com/track/7m9OqQk4RVRkw9J...     Switzerland   \n",
       "25275613  https://open.spotify.com/track/7m9OqQk4RVRkw9J...  United Kingdom   \n",
       "25275730  https://open.spotify.com/track/7m9OqQk4RVRkw9J...   United States   \n",
       "25275739  https://open.spotify.com/track/7AQim7LbvFVZJE3...   United States   \n",
       "25275804  https://open.spotify.com/track/3GVkPk8mqxz0ita...   United States   \n",
       "\n",
       "           chart          trend   streams  \n",
       "11536     top200        MOVE_UP   47696.0  \n",
       "11619     top200        MOVE_UP   27841.0  \n",
       "11645     top200  SAME_POSITION   25987.0  \n",
       "12519     top200  SAME_POSITION   36765.0  \n",
       "12552     top200        MOVE_UP   29423.0  \n",
       "...          ...            ...       ...  \n",
       "25274848  top200      NEW_ENTRY    3715.0  \n",
       "25275613  top200      MOVE_DOWN   52731.0  \n",
       "25275730  top200        MOVE_UP  418883.0  \n",
       "25275739  top200        MOVE_UP  389596.0  \n",
       "25275804  top200        MOVE_UP  257311.0  \n",
       "\n",
       "[142029 rows x 9 columns]"
      ]
     },
     "execution_count": 17,
     "metadata": {},
     "output_type": "execute_result"
    }
   ],
   "source": [
    "#finding out how many times X has shown up on the viral 200\n",
    "df.loc[(df['artist']== 'XXXTENTACION') & (df['chart'] == 'top200')]"
   ]
  },
  {
   "cell_type": "code",
   "execution_count": 18,
   "id": "25d82b0c",
   "metadata": {},
   "outputs": [
    {
     "name": "stdout",
     "output_type": "stream",
     "text": [
      "XXXTENTACION Top 200 Appearances -> 142029\n"
     ]
    }
   ],
   "source": [
    "# Count of top 200 appearances\n",
    "# where artist is equal to XXXTENTACION\n",
    "# and chart is equal to top 200\n",
    "\n",
    "print('XXXTENTACION Top 200 Appearances ->',\n",
    "    df[(df['artist'] == 'XXXTENTACION') &\n",
    "    (df['chart'] == 'top200')]['artist'].count())"
   ]
  },
  {
   "cell_type": "code",
   "execution_count": 19,
   "id": "a6b67167",
   "metadata": {},
   "outputs": [
    {
     "name": "stdout",
     "output_type": "stream",
     "text": [
      "XXXTENTACION rank 1 appearances -> 174\n"
     ]
    }
   ],
   "source": [
    "print('XXXTENTACION rank 1 appearances ->',\n",
    "    df[(df['artist'] == 'XXXTENTACION') &\n",
    "    (df['chart'] == 'top200') &\n",
    "    (df['rank'] == 1)]['artist'].count())"
   ]
  },
  {
   "cell_type": "code",
   "execution_count": 20,
   "id": "2a1645b0",
   "metadata": {},
   "outputs": [
    {
     "data": {
      "text/plain": [
       "84996.02479775257"
      ]
     },
     "execution_count": 20,
     "metadata": {},
     "output_type": "execute_result"
    }
   ],
   "source": [
    "#XXXTENTACION average streams\n",
    "\n",
    "df[(df['artist'] == 'XXXTENTACION')]['streams'].mean()"
   ]
  },
  {
   "cell_type": "code",
   "execution_count": 31,
   "id": "f454f696",
   "metadata": {},
   "outputs": [
    {
     "data": {
      "text/plain": [
       "title\n",
       "SAD!                                                   2.698917e+09\n",
       "Jocelyn Flores                                         2.465440e+09\n",
       "Moonlight                                              1.782017e+09\n",
       "Fuck Love (feat. Trippie Redd)                         1.027771e+09\n",
       "changes                                                9.145787e+08\n",
       "Everybody Dies In Their Nightmares                     6.633556e+08\n",
       "Look At Me!                                            6.426970e+08\n",
       "the remedy for a broken heart (why am I so in love)    3.083206e+08\n",
       "Hope                                                   3.010894e+08\n",
       "BAD!                                                   2.640034e+08\n",
       "Name: streams, dtype: float64"
      ]
     },
     "execution_count": 31,
     "metadata": {},
     "output_type": "execute_result"
    }
   ],
   "source": [
    "# Top 10 XXXTENTACION songs sorted by sum of streams\n",
    "# sorted by artist and chart \n",
    "# grouped by title and only summing the streams\n",
    "\n",
    "df[(df['artist'] == 'XXXTENTACION') &\n",
    "    (df['chart'] == 'top200')].groupby(['title'])['streams'].sum().nlargest(10)"
   ]
  },
  {
   "cell_type": "code",
   "execution_count": 37,
   "id": "1f73db01",
   "metadata": {},
   "outputs": [
    {
     "data": {
      "text/plain": [
       "<AxesSubplot:xlabel='title'>"
      ]
     },
     "execution_count": 37,
     "metadata": {},
     "output_type": "execute_result"
    },
    {
     "data": {
      "image/png": "[encoded data removed]",
      "text/plain": [
       "<Figure size 432x288 with 1 Axes>"
      ]
     },
     "metadata": {
      "needs_background": "light"
     },
     "output_type": "display_data"
    }
   ],
   "source": [
    "x_top3 = df[(df['artist'] == 'XXXTENTACION') &\n",
    "    (df['chart'] == 'top200')].groupby(['title'])['streams'].mean().nlargest(3)\n",
    "\n",
    "x_top3.plot()\n"
   ]
  },
  {
   "cell_type": "code",
   "execution_count": 22,
   "id": "93383220",
   "metadata": {},
   "outputs": [
    {
     "data": {
      "text/plain": [
       "<AxesSubplot:title={'center':'Top 10 Regions For XXXTENTACION listeners'}, ylabel='streams'>"
      ]
     },
     "execution_count": 22,
     "metadata": {},
     "output_type": "execute_result"
    },
    {
     "data": {
      "image/png": "[encoded data removed]",
      "text/plain": [
       "<Figure size 720x720 with 1 Axes>"
      ]
     },
     "metadata": {},
     "output_type": "display_data"
    }
   ],
   "source": [
    "# Finding top 10 regions that are most popular for XXXTENTACION listeners\n",
    "\n",
    "Xregion = df[(df['artist'] == 'XXXTENTACION') &\n",
    "            (df['chart'] == 'top200')].groupby(['region'])['streams'].sum().nlargest(9)\n",
    "\n",
    "# Making a pie chart out of data gathered above\n",
    "Xregion.plot(figsize=(10,10), kind='pie', autopct='%1.0f%%',\n",
    "            title='Top 10 Regions For XXXTENTACION listeners')"
   ]
  },
  {
   "cell_type": "code",
   "execution_count": 23,
   "id": "151f6066",
   "metadata": {},
   "outputs": [
    {
     "data": {
      "text/plain": [
       "<AxesSubplot:title={'center':'XXXTENTACION stream numbers over time'}, xlabel='Date', ylabel='Total streams by millions'>"
      ]
     },
     "execution_count": 23,
     "metadata": {},
     "output_type": "execute_result"
    },
    {
     "data": {
      "image/png": "[encoded data removed]",
      "text/plain": [
       "<Figure size 864x576 with 1 Axes>"
      ]
     },
     "metadata": {
      "needs_background": "light"
     },
     "output_type": "display_data"
    }
   ],
   "source": [
    "#Finding XXXTENTACION stream numbers over time using groupby and sum\n",
    "\n",
    "Xdate = df[(df['artist'] == 'XXXTENTACION') &\n",
    "    (df['chart'] == 'top200')].groupby(['date'])['streams'].sum()\n",
    "\n",
    "#Using a line plot to show stream numbers over time\n",
    "Xdate.plot(figsize=(12,8),\n",
    "        title='XXXTENTACION stream numbers over time', \n",
    "        ylabel='Total streams by millions', xlabel='Date')"
   ]
  },
  {
   "cell_type": "code",
   "execution_count": 24,
   "id": "dbd2b638",
   "metadata": {},
   "outputs": [
    {
     "data": {
      "text/plain": [
       "date\n",
       "2018-06-19    166508963.0\n",
       "2018-06-20    112034432.0\n",
       "2018-06-21     94400277.0\n",
       "2018-06-22     78775108.0\n",
       "2018-12-07     70686854.0\n",
       "2018-06-23     64273593.0\n",
       "2018-06-24     56969537.0\n",
       "2018-06-25     56432712.0\n",
       "2018-03-16     54197252.0\n",
       "2018-06-26     51382154.0\n",
       "2018-06-28     48541171.0\n",
       "2018-06-27     48250654.0\n",
       "2018-06-29     47340883.0\n",
       "2018-12-08     47126821.0\n",
       "2018-03-17     44367635.0\n",
       "2018-03-19     44030991.0\n",
       "2018-03-20     41907577.0\n",
       "2018-06-30     40896428.0\n",
       "2018-12-10     39613275.0\n",
       "2018-03-18     39024178.0\n",
       "Name: streams, dtype: float64"
      ]
     },
     "execution_count": 24,
     "metadata": {},
     "output_type": "execute_result"
    }
   ],
   "source": [
    "#The top 20 days XXXTENTACION had his highest number of streams\n",
    "\n",
    "df[(df['artist'] == 'XXXTENTACION') &\n",
    "    (df['chart'] == 'top200')].groupby(['date'])['streams'].sum().nlargest(20)"
   ]
  },
  {
   "cell_type": "markdown",
   "id": "23dc0158",
   "metadata": {},
   "source": [
    "### Comparing XXX and Juice\n",
    "Now that we have data on X and Juice's top 200 apperances, when they ranked number 1, most popular songs, average streams, popular regions, stream numbers over time, we can look at how death affected their streaming numbers. "
   ]
  },
  {
   "cell_type": "code",
   "execution_count": null,
   "id": "f8e5ce85",
   "metadata": {},
   "outputs": [],
   "source": [
    "# insuring 'date' column is in date format\n",
    "df['date'] = pd.to_datetime(df['date'])\n",
    "\n",
    "# setting desired start and end date to filter df\n",
    "start_date = '06-19-2018'\n",
    "end_date = '06-25-2018'\n",
    "\n",
    "#setting a mask to apply this to the df to filter it\n",
    "xxx = (df['date'] >= start_date) & (df['date'] <= end_date) & (df['artist']== 'XXXTENTACION') & (df['chart'] == 'top200')\n",
    "\n",
    "# assigning mask to df to return the rows with date between our specified start/end dates\n",
    "xdeath = df.loc[xxx]\n",
    "xdeath"
   ]
  },
  {
   "cell_type": "code",
   "execution_count": 28,
   "id": "0e240ec7",
   "metadata": {},
   "outputs": [
    {
     "data": {
      "text/html": [
       "<div>\n",
       "<style scoped>\n",
       "    .dataframe tbody tr th:only-of-type {\n",
       "        vertical-align: middle;\n",
       "    }\n",
       "\n",
       "    .dataframe tbody tr th {\n",
       "        vertical-align: top;\n",
       "    }\n",
       "\n",
       "    .dataframe thead th {\n",
       "        text-align: right;\n",
       "    }\n",
       "</style>\n",
       "<table border=\"1\" class=\"dataframe\">\n",
       "  <thead>\n",
       "    <tr style=\"text-align: right;\">\n",
       "      <th></th>\n",
       "      <th>title</th>\n",
       "      <th>rank</th>\n",
       "      <th>date</th>\n",
       "      <th>artist</th>\n",
       "      <th>url</th>\n",
       "      <th>region</th>\n",
       "      <th>chart</th>\n",
       "      <th>trend</th>\n",
       "      <th>streams</th>\n",
       "    </tr>\n",
       "  </thead>\n",
       "  <tbody>\n",
       "    <tr>\n",
       "      <th>8430240</th>\n",
       "      <td>Robbery</td>\n",
       "      <td>14</td>\n",
       "      <td>2019-12-08</td>\n",
       "      <td>Juice WRLD</td>\n",
       "      <td>https://open.spotify.com/track/6Hj9jySrnFppAI0...</td>\n",
       "      <td>Canada</td>\n",
       "      <td>top200</td>\n",
       "      <td>MOVE_UP</td>\n",
       "      <td>129166.0</td>\n",
       "    </tr>\n",
       "    <tr>\n",
       "      <th>8500059</th>\n",
       "      <td>Lucid Dreams</td>\n",
       "      <td>16</td>\n",
       "      <td>2019-12-08</td>\n",
       "      <td>Juice WRLD</td>\n",
       "      <td>https://open.spotify.com/track/285pBltuF7vW8Te...</td>\n",
       "      <td>Australia</td>\n",
       "      <td>top200</td>\n",
       "      <td>MOVE_UP</td>\n",
       "      <td>122276.0</td>\n",
       "    </tr>\n",
       "    <tr>\n",
       "      <th>8500088</th>\n",
       "      <td>Bandit (with YoungBoy Never Broke Again)</td>\n",
       "      <td>45</td>\n",
       "      <td>2019-12-08</td>\n",
       "      <td>Juice WRLD</td>\n",
       "      <td>https://open.spotify.com/track/6Gg1gjgKi2AK4e0...</td>\n",
       "      <td>Australia</td>\n",
       "      <td>top200</td>\n",
       "      <td>MOVE_UP</td>\n",
       "      <td>72355.0</td>\n",
       "    </tr>\n",
       "    <tr>\n",
       "      <th>8500096</th>\n",
       "      <td>Robbery</td>\n",
       "      <td>53</td>\n",
       "      <td>2019-12-08</td>\n",
       "      <td>Juice WRLD</td>\n",
       "      <td>https://open.spotify.com/track/6Hj9jySrnFppAI0...</td>\n",
       "      <td>Australia</td>\n",
       "      <td>top200</td>\n",
       "      <td>NEW_ENTRY</td>\n",
       "      <td>68072.0</td>\n",
       "    </tr>\n",
       "    <tr>\n",
       "      <th>8500142</th>\n",
       "      <td>All Girls Are The Same</td>\n",
       "      <td>99</td>\n",
       "      <td>2019-12-08</td>\n",
       "      <td>Juice WRLD</td>\n",
       "      <td>https://open.spotify.com/track/4VXIryQMWpIdGgY...</td>\n",
       "      <td>Australia</td>\n",
       "      <td>top200</td>\n",
       "      <td>NEW_ENTRY</td>\n",
       "      <td>48322.0</td>\n",
       "    </tr>\n",
       "    <tr>\n",
       "      <th>...</th>\n",
       "      <td>...</td>\n",
       "      <td>...</td>\n",
       "      <td>...</td>\n",
       "      <td>...</td>\n",
       "      <td>...</td>\n",
       "      <td>...</td>\n",
       "      <td>...</td>\n",
       "      <td>...</td>\n",
       "      <td>...</td>\n",
       "    </tr>\n",
       "    <tr>\n",
       "      <th>9311457</th>\n",
       "      <td>Lean Wit Me</td>\n",
       "      <td>80</td>\n",
       "      <td>2019-12-15</td>\n",
       "      <td>Juice WRLD</td>\n",
       "      <td>https://open.spotify.com/track/3oDkdAySo1VQQG0...</td>\n",
       "      <td>United States</td>\n",
       "      <td>top200</td>\n",
       "      <td>MOVE_DOWN</td>\n",
       "      <td>411028.0</td>\n",
       "    </tr>\n",
       "    <tr>\n",
       "      <th>9311523</th>\n",
       "      <td>Black &amp; White</td>\n",
       "      <td>146</td>\n",
       "      <td>2019-12-15</td>\n",
       "      <td>Juice WRLD</td>\n",
       "      <td>https://open.spotify.com/track/1fCeXjoRExPP2qw...</td>\n",
       "      <td>United States</td>\n",
       "      <td>top200</td>\n",
       "      <td>MOVE_DOWN</td>\n",
       "      <td>280371.0</td>\n",
       "    </tr>\n",
       "    <tr>\n",
       "      <th>9311543</th>\n",
       "      <td>Empty</td>\n",
       "      <td>166</td>\n",
       "      <td>2019-12-15</td>\n",
       "      <td>Juice WRLD</td>\n",
       "      <td>https://open.spotify.com/track/41MCdlvXOl62B7K...</td>\n",
       "      <td>United States</td>\n",
       "      <td>top200</td>\n",
       "      <td>MOVE_DOWN</td>\n",
       "      <td>266144.0</td>\n",
       "    </tr>\n",
       "    <tr>\n",
       "      <th>9311555</th>\n",
       "      <td>Wasted (feat. Lil Uzi Vert)</td>\n",
       "      <td>178</td>\n",
       "      <td>2019-12-15</td>\n",
       "      <td>Juice WRLD</td>\n",
       "      <td>https://open.spotify.com/track/1a7WZZZH7Lzyvor...</td>\n",
       "      <td>United States</td>\n",
       "      <td>top200</td>\n",
       "      <td>MOVE_DOWN</td>\n",
       "      <td>253937.0</td>\n",
       "    </tr>\n",
       "    <tr>\n",
       "      <th>9311935</th>\n",
       "      <td>Lucid Dreams</td>\n",
       "      <td>158</td>\n",
       "      <td>2019-12-15</td>\n",
       "      <td>Juice WRLD</td>\n",
       "      <td>https://open.spotify.com/track/285pBltuF7vW8Te...</td>\n",
       "      <td>Vietnam</td>\n",
       "      <td>top200</td>\n",
       "      <td>MOVE_DOWN</td>\n",
       "      <td>2644.0</td>\n",
       "    </tr>\n",
       "  </tbody>\n",
       "</table>\n",
       "<p>2029 rows × 9 columns</p>\n",
       "</div>"
      ],
      "text/plain": [
       "                                            title  rank       date  \\\n",
       "8430240                                   Robbery    14 2019-12-08   \n",
       "8500059                              Lucid Dreams    16 2019-12-08   \n",
       "8500088  Bandit (with YoungBoy Never Broke Again)    45 2019-12-08   \n",
       "8500096                                   Robbery    53 2019-12-08   \n",
       "8500142                    All Girls Are The Same    99 2019-12-08   \n",
       "...                                           ...   ...        ...   \n",
       "9311457                               Lean Wit Me    80 2019-12-15   \n",
       "9311523                             Black & White   146 2019-12-15   \n",
       "9311543                                     Empty   166 2019-12-15   \n",
       "9311555               Wasted (feat. Lil Uzi Vert)   178 2019-12-15   \n",
       "9311935                              Lucid Dreams   158 2019-12-15   \n",
       "\n",
       "             artist                                                url  \\\n",
       "8430240  Juice WRLD  https://open.spotify.com/track/6Hj9jySrnFppAI0...   \n",
       "8500059  Juice WRLD  https://open.spotify.com/track/285pBltuF7vW8Te...   \n",
       "8500088  Juice WRLD  https://open.spotify.com/track/6Gg1gjgKi2AK4e0...   \n",
       "8500096  Juice WRLD  https://open.spotify.com/track/6Hj9jySrnFppAI0...   \n",
       "8500142  Juice WRLD  https://open.spotify.com/track/4VXIryQMWpIdGgY...   \n",
       "...             ...                                                ...   \n",
       "9311457  Juice WRLD  https://open.spotify.com/track/3oDkdAySo1VQQG0...   \n",
       "9311523  Juice WRLD  https://open.spotify.com/track/1fCeXjoRExPP2qw...   \n",
       "9311543  Juice WRLD  https://open.spotify.com/track/41MCdlvXOl62B7K...   \n",
       "9311555  Juice WRLD  https://open.spotify.com/track/1a7WZZZH7Lzyvor...   \n",
       "9311935  Juice WRLD  https://open.spotify.com/track/285pBltuF7vW8Te...   \n",
       "\n",
       "                region   chart      trend   streams  \n",
       "8430240         Canada  top200    MOVE_UP  129166.0  \n",
       "8500059      Australia  top200    MOVE_UP  122276.0  \n",
       "8500088      Australia  top200    MOVE_UP   72355.0  \n",
       "8500096      Australia  top200  NEW_ENTRY   68072.0  \n",
       "8500142      Australia  top200  NEW_ENTRY   48322.0  \n",
       "...                ...     ...        ...       ...  \n",
       "9311457  United States  top200  MOVE_DOWN  411028.0  \n",
       "9311523  United States  top200  MOVE_DOWN  280371.0  \n",
       "9311543  United States  top200  MOVE_DOWN  266144.0  \n",
       "9311555  United States  top200  MOVE_DOWN  253937.0  \n",
       "9311935        Vietnam  top200  MOVE_DOWN    2644.0  \n",
       "\n",
       "[2029 rows x 9 columns]"
      ]
     },
     "execution_count": 28,
     "metadata": {},
     "output_type": "execute_result"
    }
   ],
   "source": [
    "# doing the same thing as above but with juice wrld\n",
    "df['date'] = pd.to_datetime(df['date'])\n",
    "\n",
    "start_date = '12-08-2019'\n",
    "end_date = '12-15-2019'\n",
    "\n",
    "juice = (df['date'] >= start_date) & (df['date'] <= end_date) & (df['artist']== 'Juice WRLD') & (df['chart'] == 'top200')\n",
    "\n",
    "jdeath = df.loc[juice]\n",
    "jdeath\n"
   ]
  },
  {
   "cell_type": "code",
   "execution_count": 29,
   "id": "5e3b1df3",
   "metadata": {},
   "outputs": [
    {
     "name": "stdout",
     "output_type": "stream",
     "text": [
      "              rank       streams\n",
      "count  5331.000000  5.331000e+03\n",
      "mean     65.777528  1.180631e+05\n",
      "std      53.761732  4.986949e+05\n",
      "min       1.000000  1.001000e+03\n",
      "25%      22.000000  3.563000e+03\n",
      "50%      51.000000  1.170600e+04\n",
      "75%     101.000000  4.889850e+04\n",
      "max     200.000000  1.041509e+07\n",
      "              rank       streams\n",
      "count  2029.000000  2.029000e+03\n",
      "mean     78.689995  1.323933e+05\n",
      "std      55.820454  4.089697e+05\n",
      "min       1.000000  1.001000e+03\n",
      "25%      30.000000  3.076000e+03\n",
      "50%      68.000000  1.109400e+04\n",
      "75%     121.000000  5.437200e+04\n",
      "max     200.000000  5.544528e+06\n"
     ]
    }
   ],
   "source": [
    "# describing the week of streams after each rapper's deaths\n",
    "print(xdeath.describe())\n",
    "print(jdeath.describe())"
   ]
  }
 ],
 "metadata": {
  "kernelspec": {
   "display_name": "Python 3.10.5 64-bit",
   "language": "python",
   "name": "python3"
  },
  "language_info": {
   "codemirror_mode": {
    "name": "ipython",
    "version": 3
   },
   "file_extension": ".py",
   "mimetype": "text/x-python",
   "name": "python",
   "nbconvert_exporter": "python",
   "pygments_lexer": "ipython3",
   "version": "3.10.5"
  },
  "vscode": {
   "interpreter": {
    "hash": "aee8b7b246df8f9039afb4144a1f6fd8d2ca17a180786b69acc140d282b71a49"
   }
  }
 },
 "nbformat": 4,
 "nbformat_minor": 5
}
